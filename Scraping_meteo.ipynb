{
 "cells": [
  {
   "cell_type": "code",
   "execution_count": 14,
   "metadata": {},
   "outputs": [],
   "source": [
    "#downloading the possible nescessary packages\n",
    "from selenium import webdriver\n",
    "from selenium.webdriver.common.keys import Keys\n",
    "import requests\n",
    "from bs4 import BeautifulSoup\n",
    "import pandas as pd\n",
    "from selenium.webdriver.chrome.options import Options \n",
    "from time import sleep, ctime"
   ]
  },
  {
   "cell_type": "code",
   "execution_count": 71,
   "metadata": {},
   "outputs": [],
   "source": [
    "import pandas as pd"
   ]
  },
  {
   "cell_type": "code",
   "execution_count": 15,
   "metadata": {},
   "outputs": [],
   "source": [
    "url = 'https://datosclima.es/Aemet2013/Precipitastad2013.php'\n",
    "path = 'C:\\\\Program Files (x86)\\\\chromedriver.exe'"
   ]
  },
  {
   "cell_type": "code",
   "execution_count": 20,
   "metadata": {},
   "outputs": [],
   "source": [
    "opts = Options()\n",
    "opts.headles = False\n",
    "driver = webdriver.Chrome(path, options = opts)\n",
    "driver.get(url)"
   ]
  },
  {
   "cell_type": "code",
   "execution_count": 22,
   "metadata": {},
   "outputs": [],
   "source": [
    "prec = driver.find_element_by_xpath('/html/body/div[3]/div[3]/div[5]/a[3]')\n",
    "prec.click()"
   ]
  },
  {
   "cell_type": "code",
   "execution_count": 24,
   "metadata": {},
   "outputs": [],
   "source": [
    "prov = driver.find_element_by_xpath('//*[@id=\"col2\"]/div[1]/div/form/select[1]')\n",
    "prov.send_keys('Barcelona')\n",
    "sleep(1)\n",
    "est = driver.find_element_by_xpath('//*[@id=\"col2\"]/div[1]/div/form/select[2]')\n",
    "est.send_keys('Barcelona')\n",
    "sleep(1)\n",
    "\n",
    "data_i_d = driver.find_element_by_xpath('//*[@id=\"col2\"]/div[1]/div/form/div/table/tbody/tr/td[2]/input[1]')\n",
    "data_i_d.send_keys('01')\n",
    "data_i_m = driver.find_element_by_xpath('//*[@id=\"col2\"]/div[1]/div/form/div/table/tbody/tr/td[2]/input[2]')\n",
    "data_i_m.send_keys('05')\n",
    "data_i_a = driver.find_element_by_xpath('//*[@id=\"col2\"]/div[1]/div/form/div/table/tbody/tr/td[2]/input[3]')\n",
    "data_i_a.send_keys('2013')\n",
    "\n",
    "data_f_d = driver.find_element_by_xpath('//*[@id=\"col2\"]/div[1]/div/form/div/table/tbody/tr/td[5]/input[1]')\n",
    "data_f_d.send_keys('29')\n",
    "data_f_m = driver.find_element_by_xpath('//*[@id=\"col2\"]/div[1]/div/form/div/table/tbody/tr/td[5]/input[2]')\n",
    "data_f_m.send_keys('11')\n",
    "data_f_a = driver.find_element_by_xpath('//*[@id=\"col2\"]/div[1]/div/form/div/table/tbody/tr/td[5]/input[3]')\n",
    "data_f_a.send_keys('2021')\n",
    "\n",
    "find = driver.find_element_by_xpath('//*[@id=\"col2\"]/div[1]/div/form/input[5]')\n",
    "find.click()\n"
   ]
  },
  {
   "cell_type": "code",
   "execution_count": 25,
   "metadata": {},
   "outputs": [],
   "source": [
    "source = driver.find_element_by_xpath('//*[@id=\"col2\"]/div/div')\n",
    "opts = source.get_attribute('innerHTML')\n",
    "soup = BeautifulSoup(opts, 'html.parser')"
   ]
  },
  {
   "cell_type": "code",
   "execution_count": 27,
   "metadata": {},
   "outputs": [],
   "source": [
    "list_data = []\n",
    "for td in soup.find_all('td'):\n",
    "    list_data.append(td.get_text())"
   ]
  },
  {
   "cell_type": "code",
   "execution_count": 30,
   "metadata": {},
   "outputs": [],
   "source": [
    "import regex as re"
   ]
  },
  {
   "cell_type": "code",
   "execution_count": 50,
   "metadata": {},
   "outputs": [],
   "source": [
    "clean = []\n",
    "for i in list_data:\n",
    "    if i.find('FECHA') == -1:\n",
    "        clean.append(i)"
   ]
  },
  {
   "cell_type": "code",
   "execution_count": 58,
   "metadata": {},
   "outputs": [],
   "source": [
    "clean_2 = []\n",
    "for i in clean:\n",
    "    if i.find('Precipitación: l/m2') == -1:\n",
    "        clean_2.append(i)"
   ]
  },
  {
   "cell_type": "code",
   "execution_count": 64,
   "metadata": {},
   "outputs": [],
   "source": [
    "clean_3 = clean_2[8:]"
   ]
  },
  {
   "cell_type": "code",
   "execution_count": 70,
   "metadata": {},
   "outputs": [],
   "source": [
    "date = clean_3[::2]\n",
    "rain = clean_3[1::2]"
   ]
  },
  {
   "cell_type": "code",
   "execution_count": 72,
   "metadata": {},
   "outputs": [],
   "source": [
    "d = {'date': date, 'rain' : rain}"
   ]
  },
  {
   "cell_type": "code",
   "execution_count": 76,
   "metadata": {},
   "outputs": [],
   "source": [
    "df = pd.DataFrame(d)"
   ]
  },
  {
   "cell_type": "code",
   "execution_count": 77,
   "metadata": {},
   "outputs": [
    {
     "data": {
      "text/html": [
       "<div>\n",
       "<style scoped>\n",
       "    .dataframe tbody tr th:only-of-type {\n",
       "        vertical-align: middle;\n",
       "    }\n",
       "\n",
       "    .dataframe tbody tr th {\n",
       "        vertical-align: top;\n",
       "    }\n",
       "\n",
       "    .dataframe thead th {\n",
       "        text-align: right;\n",
       "    }\n",
       "</style>\n",
       "<table border=\"1\" class=\"dataframe\">\n",
       "  <thead>\n",
       "    <tr style=\"text-align: right;\">\n",
       "      <th></th>\n",
       "      <th>date</th>\n",
       "      <th>rain</th>\n",
       "    </tr>\n",
       "  </thead>\n",
       "  <tbody>\n",
       "    <tr>\n",
       "      <th>0</th>\n",
       "      <td>07-05-2013</td>\n",
       "      <td>0</td>\n",
       "    </tr>\n",
       "    <tr>\n",
       "      <th>1</th>\n",
       "      <td>08-05-2013</td>\n",
       "      <td>0</td>\n",
       "    </tr>\n",
       "    <tr>\n",
       "      <th>2</th>\n",
       "      <td>09-05-2013</td>\n",
       "      <td>0</td>\n",
       "    </tr>\n",
       "    <tr>\n",
       "      <th>3</th>\n",
       "      <td>10-05-2013</td>\n",
       "      <td>0.7</td>\n",
       "    </tr>\n",
       "    <tr>\n",
       "      <th>4</th>\n",
       "      <td>11-05-2013</td>\n",
       "      <td>0.3</td>\n",
       "    </tr>\n",
       "    <tr>\n",
       "      <th>...</th>\n",
       "      <td>...</td>\n",
       "      <td>...</td>\n",
       "    </tr>\n",
       "    <tr>\n",
       "      <th>3055</th>\n",
       "      <td>27-10-2021</td>\n",
       "      <td>0</td>\n",
       "    </tr>\n",
       "    <tr>\n",
       "      <th>3056</th>\n",
       "      <td>28-10-2021</td>\n",
       "      <td>0</td>\n",
       "    </tr>\n",
       "    <tr>\n",
       "      <th>3057</th>\n",
       "      <td>29-10-2021</td>\n",
       "      <td>6.6</td>\n",
       "    </tr>\n",
       "    <tr>\n",
       "      <th>3058</th>\n",
       "      <td>30-10-2021</td>\n",
       "      <td>13</td>\n",
       "    </tr>\n",
       "    <tr>\n",
       "      <th>3059</th>\n",
       "      <td>31-10-2021</td>\n",
       "      <td>0.2</td>\n",
       "    </tr>\n",
       "  </tbody>\n",
       "</table>\n",
       "<p>3060 rows × 2 columns</p>\n",
       "</div>"
      ],
      "text/plain": [
       "            date rain\n",
       "0     07-05-2013    0\n",
       "1     08-05-2013    0\n",
       "2     09-05-2013    0\n",
       "3     10-05-2013  0.7\n",
       "4     11-05-2013  0.3\n",
       "...          ...  ...\n",
       "3055  27-10-2021    0\n",
       "3056  28-10-2021    0\n",
       "3057  29-10-2021  6.6\n",
       "3058  30-10-2021   13\n",
       "3059  31-10-2021  0.2\n",
       "\n",
       "[3060 rows x 2 columns]"
      ]
     },
     "execution_count": 77,
     "metadata": {},
     "output_type": "execute_result"
    }
   ],
   "source": [
    "df"
   ]
  },
  {
   "cell_type": "code",
   "execution_count": 78,
   "metadata": {},
   "outputs": [],
   "source": [
    "df.to_csv('daily_9y.csv')"
   ]
  },
  {
   "cell_type": "code",
   "execution_count": null,
   "metadata": {},
   "outputs": [],
   "source": []
  }
 ],
 "metadata": {
  "kernelspec": {
   "display_name": "Python 3",
   "language": "python",
   "name": "python3"
  },
  "language_info": {
   "codemirror_mode": {
    "name": "ipython",
    "version": 3
   },
   "file_extension": ".py",
   "mimetype": "text/x-python",
   "name": "python",
   "nbconvert_exporter": "python",
   "pygments_lexer": "ipython3",
   "version": "3.8.5"
  }
 },
 "nbformat": 4,
 "nbformat_minor": 4
}
