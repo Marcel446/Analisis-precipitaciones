{
 "cells": [
  {
   "cell_type": "code",
   "execution_count": 1,
   "metadata": {},
   "outputs": [],
   "source": [
    "#Import paquetes a utilizar\n",
    "import pandas as pd\n",
    "import matplotlib.pyplot as plt\n",
    "import seaborn as sns\n",
    "from sklearn.ensemble import RandomForestRegressor\n",
    "from sklearn.model_selection import RandomizedSearchCV\n",
    "from sklearn.model_selection import train_test_split\n",
    "from sklearn import metrics\n",
    "from sklearn.metrics import  *\n",
    "from sklearn.utils import resample\n",
    "from sklearn.preprocessing import StandardScaler\n",
    "from sklearn.preprocessing import MinMaxScaler\n",
    "from scipy.stats import iqr"
   ]
  },
  {
   "cell_type": "code",
   "execution_count": 114,
   "metadata": {},
   "outputs": [],
   "source": [
    "from sklearn.linear_model import LinearRegression\n",
    "from sklearn.ensemble import RandomForestClassifier\n",
    "from sklearn import linear_model, dummy, metrics\n",
    "from sklearn.linear_model import LogisticRegression\n",
    "from sklearn.dummy import DummyClassifier"
   ]
  },
  {
   "cell_type": "code",
   "execution_count": 2,
   "metadata": {},
   "outputs": [],
   "source": [
    "import numpy as np\n",
    "import math"
   ]
  },
  {
   "cell_type": "code",
   "execution_count": 3,
   "metadata": {},
   "outputs": [],
   "source": [
    "#definicion del df\n",
    "df_long = pd.read_csv('mensual_long.csv')"
   ]
  },
  {
   "cell_type": "code",
   "execution_count": 4,
   "metadata": {},
   "outputs": [],
   "source": [
    "df_long.drop('Desc_Mes',1, inplace = True)"
   ]
  },
  {
   "cell_type": "code",
   "execution_count": 5,
   "metadata": {},
   "outputs": [],
   "source": [
    "#Creacion de funcion para limpiar valores outliers de cada mes. \n",
    "def clean(mes_num):\n",
    "    intqr = iqr(df_long['Precipitacions'][df_long['Mes'] == mes_num])\n",
    "    q1 = df_long['Precipitacions'][df_long['Mes'] == mes_num].quantile(0.25)\n",
    "    out_b = q1-(intqr*1.5)\n",
    "    q3 = df_long['Precipitacions'][df_long['Mes'] == mes_num].quantile(0.75)\n",
    "    out_a = q3 +(intqr*1.5)\n",
    "    index = df_long[((df_long['Precipitacions'] > out_a) | (df_long['Precipitacions'] < out_b)) & (df_long['Mes'] == mes_num)].index\n",
    "    return index"
   ]
  },
  {
   "cell_type": "code",
   "execution_count": 6,
   "metadata": {},
   "outputs": [],
   "source": [
    "#Limpieza del df de outliers. \n",
    "for i in range(0,12):\n",
    "    df_long.drop(clean(i), 0,inplace = True)"
   ]
  },
  {
   "cell_type": "code",
   "execution_count": 7,
   "metadata": {},
   "outputs": [],
   "source": [
    "#Primer modelo de ML \n",
    "#Modelo de random forest regressor, regression para ver si se puede predecir la lluvia en funcion de los meses. \n",
    "X = df_long.drop(['Precipitacions', 'Any'], 1)\n",
    "y = df_long['Precipitacions']"
   ]
  },
  {
   "cell_type": "code",
   "execution_count": 8,
   "metadata": {},
   "outputs": [],
   "source": [
    "X_train, X_test, y_train, y_test = train_test_split(X, y, test_size = 0.3, random_state = 42)"
   ]
  },
  {
   "cell_type": "code",
   "execution_count": 9,
   "metadata": {
    "scrolled": false
   },
   "outputs": [
    {
     "data": {
      "text/plain": [
       "RandomForestRegressor()"
      ]
     },
     "execution_count": 9,
     "metadata": {},
     "output_type": "execute_result"
    }
   ],
   "source": [
    "Reg = RandomForestRegressor()\n",
    "Reg.fit(X_train, y_train)"
   ]
  },
  {
   "cell_type": "code",
   "execution_count": 10,
   "metadata": {},
   "outputs": [],
   "source": [
    "prediction_2 = Reg.predict(X_test)"
   ]
  },
  {
   "cell_type": "code",
   "execution_count": 11,
   "metadata": {
    "collapsed": true
   },
   "outputs": [
    {
     "data": {
      "text/plain": [
       "{'bootstrap': True,\n",
       " 'ccp_alpha': 0.0,\n",
       " 'criterion': 'mse',\n",
       " 'max_depth': None,\n",
       " 'max_features': 'auto',\n",
       " 'max_leaf_nodes': None,\n",
       " 'max_samples': None,\n",
       " 'min_impurity_decrease': 0.0,\n",
       " 'min_impurity_split': None,\n",
       " 'min_samples_leaf': 1,\n",
       " 'min_samples_split': 2,\n",
       " 'min_weight_fraction_leaf': 0.0,\n",
       " 'n_estimators': 100,\n",
       " 'n_jobs': None,\n",
       " 'oob_score': False,\n",
       " 'random_state': None,\n",
       " 'verbose': 0,\n",
       " 'warm_start': False}"
      ]
     },
     "execution_count": 11,
     "metadata": {},
     "output_type": "execute_result"
    }
   ],
   "source": [
    "Reg.get_params()"
   ]
  },
  {
   "cell_type": "code",
   "execution_count": 12,
   "metadata": {},
   "outputs": [
    {
     "name": "stdout",
     "output_type": "stream",
     "text": [
      "R2 : 0.1330348440404544\n",
      "MSE : 1242.4735025947837\n",
      "MAE : 27.097766678364778\n"
     ]
    }
   ],
   "source": [
    "#Metricas de evaluacion: \n",
    "print('R2 : ' + str(Reg.score(X_test, y_test)))\n",
    "print('MSE : ' + str(mean_squared_error(y_test, prediction_2)))\n",
    "print('MAE : ' + str(mean_absolute_error(y_test, prediction_2)))"
   ]
  },
  {
   "cell_type": "markdown",
   "metadata": {},
   "source": [
    "Las métricas indican un modelo deficiente con poca capacidad de predecir acuradamente el volumen de precipitacion segun los meses. \n",
    "\n",
    "Se lleva a cabo un Grid Search para ver si se puede mejorar el modelo. "
   ]
  },
  {
   "cell_type": "code",
   "execution_count": 13,
   "metadata": {},
   "outputs": [],
   "source": [
    "n_estimators = [int(x) for x in np.linspace(start = 200, stop = 2000, num = 10)]\n",
    "max_features =  ['auto', 'sqrt']\n",
    "max_depth = [int(x) for x in np.linspace(10,110, num = 11)]\n",
    "max_depth.append(None)\n",
    "min_samples_split = [2,5,10]\n",
    "min_samples_leaf = [1,2,4]\n",
    "bootstrap = [True, False]"
   ]
  },
  {
   "cell_type": "code",
   "execution_count": 14,
   "metadata": {},
   "outputs": [],
   "source": [
    "random_grid = {'n_estimators' : n_estimators,\n",
    "              'max_features' : max_features, \n",
    "              'max_depth': max_depth,\n",
    "              'min_samples_split': min_samples_split,\n",
    "              'min_samples_leaf': min_samples_leaf,\n",
    "              'bootstrap': bootstrap\n",
    "              }"
   ]
  },
  {
   "cell_type": "code",
   "execution_count": 15,
   "metadata": {},
   "outputs": [],
   "source": [
    "rf_random = RandomizedSearchCV(estimator = Reg,\n",
    "                              param_distributions = random_grid,\n",
    "                              n_iter = 100, cv = 3, verbose = 2,\n",
    "                              random_state = 45, n_jobs = -1)"
   ]
  },
  {
   "cell_type": "code",
   "execution_count": 16,
   "metadata": {},
   "outputs": [
    {
     "name": "stdout",
     "output_type": "stream",
     "text": [
      "Fitting 3 folds for each of 100 candidates, totalling 300 fits\n"
     ]
    },
    {
     "name": "stderr",
     "output_type": "stream",
     "text": [
      "[Parallel(n_jobs=-1)]: Using backend LokyBackend with 6 concurrent workers.\n",
      "[Parallel(n_jobs=-1)]: Done  29 tasks      | elapsed:   10.1s\n",
      "[Parallel(n_jobs=-1)]: Done 150 tasks      | elapsed:   37.6s\n",
      "[Parallel(n_jobs=-1)]: Done 300 out of 300 | elapsed:  1.2min finished\n"
     ]
    }
   ],
   "source": [
    "search = rf_random.fit(X_train, y_train)"
   ]
  },
  {
   "cell_type": "code",
   "execution_count": 17,
   "metadata": {
    "scrolled": true
   },
   "outputs": [
    {
     "data": {
      "text/plain": [
       "{'n_estimators': 200,\n",
       " 'min_samples_split': 10,\n",
       " 'min_samples_leaf': 1,\n",
       " 'max_features': 'sqrt',\n",
       " 'max_depth': 80,\n",
       " 'bootstrap': True}"
      ]
     },
     "execution_count": 17,
     "metadata": {},
     "output_type": "execute_result"
    }
   ],
   "source": [
    "search.best_params_"
   ]
  },
  {
   "cell_type": "code",
   "execution_count": 18,
   "metadata": {},
   "outputs": [],
   "source": [
    "rfr = RandomForestRegressor(n_estimators = 200,\n",
    "     min_samples_split= 10,\n",
    "     min_samples_leaf= 1,\n",
    "     max_features= 'sqrt',\n",
    "     max_depth= 80,\n",
    "     bootstrap= True)"
   ]
  },
  {
   "cell_type": "code",
   "execution_count": 19,
   "metadata": {
    "scrolled": true
   },
   "outputs": [
    {
     "data": {
      "text/plain": [
       "RandomForestRegressor(max_depth=80, max_features='sqrt', min_samples_split=10,\n",
       "                      n_estimators=200)"
      ]
     },
     "execution_count": 19,
     "metadata": {},
     "output_type": "execute_result"
    }
   ],
   "source": [
    "rfr.fit(X_train, y_train)"
   ]
  },
  {
   "cell_type": "code",
   "execution_count": 20,
   "metadata": {},
   "outputs": [],
   "source": [
    "prediction = rfr.predict(X_test)"
   ]
  },
  {
   "cell_type": "code",
   "execution_count": 21,
   "metadata": {},
   "outputs": [
    {
     "name": "stdout",
     "output_type": "stream",
     "text": [
      "R2 : 0.13419109317559785\n",
      "MSE : 1240.8164476336487\n",
      "MAE : 27.091291459902813\n"
     ]
    }
   ],
   "source": [
    "#Metricas de evaluacion: \n",
    "print('R2 : ' + str(rfr.score(X_test, y_test)))\n",
    "print('MSE : ' + str(mean_squared_error(y_test, prediction)))\n",
    "print('MAE : ' + str(mean_absolute_error(y_test, prediction)))"
   ]
  },
  {
   "cell_type": "markdown",
   "metadata": {},
   "source": [
    "Las métricas obtenidas son casi identicas a las anteriores. \n",
    "\n",
    "Como possible mejora se classifican los meses en funcion de la media de lluvia por mes siendo 1 el mes con menos lluvia i 12 el que mas "
   ]
  },
  {
   "cell_type": "code",
   "execution_count": null,
   "metadata": {},
   "outputs": [],
   "source": [
    "#Para aplicar regression ordenamos los meses en funcion de la media de lluvia por mes\n",
    "#siendo 1 el mes con menos lluvia i 12 el que mas \n",
    "for i in range(1,13):\n",
    "    print('mitjana mes: ' + str(i) + ('  ') + str(df_long['Precipitacions'][df_long['Mes'] == i].mean()))"
   ]
  },
  {
   "cell_type": "code",
   "execution_count": 23,
   "metadata": {},
   "outputs": [],
   "source": [
    "dict_mesos = {1 : 3, \n",
    "              2 : 2 ,\n",
    "              3 : 7,\n",
    "              4 : 9, \n",
    "              5 : 8,\n",
    "              6 : 4, \n",
    "              7 : 1, \n",
    "              8: 5, \n",
    "              9: 12 ,\n",
    "              10 : 11 , \n",
    "              11: 10, \n",
    "              12 : 6}"
   ]
  },
  {
   "cell_type": "code",
   "execution_count": 24,
   "metadata": {},
   "outputs": [],
   "source": [
    "df_long['Mes'] = df_long['Mes'].replace(dict_mesos)"
   ]
  },
  {
   "cell_type": "code",
   "execution_count": 25,
   "metadata": {},
   "outputs": [],
   "source": [
    "X = df_long.drop('Precipitacions', 1)"
   ]
  },
  {
   "cell_type": "code",
   "execution_count": 26,
   "metadata": {},
   "outputs": [],
   "source": [
    "y = df_long.Precipitacions"
   ]
  },
  {
   "cell_type": "code",
   "execution_count": 48,
   "metadata": {},
   "outputs": [],
   "source": [
    "X_train, X_test, y_train, y_test = train_test_split(X, y, test_size = 0.3, random_state = 42)"
   ]
  },
  {
   "cell_type": "code",
   "execution_count": 49,
   "metadata": {},
   "outputs": [],
   "source": [
    "rfr = RandomForestRegressor(n_estimators = 200,\n",
    "     min_samples_split= 10,\n",
    "     min_samples_leaf= 1,\n",
    "     max_features= 'sqrt',\n",
    "     max_depth= 80,\n",
    "     bootstrap= True)"
   ]
  },
  {
   "cell_type": "code",
   "execution_count": 50,
   "metadata": {},
   "outputs": [
    {
     "data": {
      "text/plain": [
       "RandomForestRegressor(max_depth=80, max_features='sqrt', min_samples_split=10,\n",
       "                      n_estimators=200)"
      ]
     },
     "execution_count": 50,
     "metadata": {},
     "output_type": "execute_result"
    }
   ],
   "source": [
    "rfr.fit(X_train, y_train)"
   ]
  },
  {
   "cell_type": "code",
   "execution_count": 51,
   "metadata": {},
   "outputs": [],
   "source": [
    "prediction = rfr.predict(X_test)"
   ]
  },
  {
   "cell_type": "code",
   "execution_count": 58,
   "metadata": {},
   "outputs": [
    {
     "name": "stdout",
     "output_type": "stream",
     "text": [
      "R2 : 0.034747108417349515\n",
      "MSE : 1906.1323283226018\n",
      "RMSE :43.65927539850612\n",
      "MAE : 31.34774277361666\n"
     ]
    }
   ],
   "source": [
    "print('R2 : ' + str(rfr.score(X_test, y_test)))\n",
    "print('MSE : ' + str(mean_squared_error(y_test, prediction)))\n",
    "print('RMSE :' +str(math.sqrt(mean_squared_error(y_test, prediction))))\n",
    "print('MAE : ' + str(mean_absolute_error(y_test, prediction)))"
   ]
  },
  {
   "cell_type": "markdown",
   "metadata": {},
   "source": [
    "Metricas han empeorado ligeramente respeto a las originales. \n",
    "\n",
    "Para ver de mejorar el estudio se hara añadiendo el datos de las temperaturas associadas a los meses. "
   ]
  },
  {
   "cell_type": "code",
   "execution_count": 374,
   "metadata": {},
   "outputs": [],
   "source": [
    "df_temp = pd.read_csv('temp_long.csv')"
   ]
  },
  {
   "cell_type": "code",
   "execution_count": 375,
   "metadata": {},
   "outputs": [],
   "source": [
    "df_pluja = pd.read_csv('mensual_long.csv')"
   ]
  },
  {
   "cell_type": "code",
   "execution_count": 376,
   "metadata": {},
   "outputs": [],
   "source": [
    "df_temp.drop(df_temp[df_temp['Any']<1786].index, axis = 0, inplace = True)"
   ]
  },
  {
   "cell_type": "code",
   "execution_count": 377,
   "metadata": {},
   "outputs": [],
   "source": [
    "df = df_pluja.merge(df_temp)"
   ]
  },
  {
   "cell_type": "code",
   "execution_count": 378,
   "metadata": {},
   "outputs": [],
   "source": [
    "df.drop(['Desc_Mes','Any'],1 ,inplace = True)"
   ]
  },
  {
   "cell_type": "code",
   "execution_count": 379,
   "metadata": {},
   "outputs": [],
   "source": [
    "for i in range(0,12):\n",
    "    df.drop(clean(i), 0,inplace = True)"
   ]
  },
  {
   "cell_type": "code",
   "execution_count": 380,
   "metadata": {},
   "outputs": [],
   "source": [
    "df['Mes'].replace(dict_mesos, inplace = True)"
   ]
  },
  {
   "cell_type": "code",
   "execution_count": 382,
   "metadata": {},
   "outputs": [],
   "source": [
    "df.to_csv('temp_pre.csv')"
   ]
  },
  {
   "cell_type": "code",
   "execution_count": 40,
   "metadata": {},
   "outputs": [],
   "source": [
    "X = df.drop('Precipitacions', axis =1)\n",
    "y = df.Precipitacions"
   ]
  },
  {
   "cell_type": "code",
   "execution_count": 59,
   "metadata": {},
   "outputs": [],
   "source": [
    "X_train, X_test, y_train, y_test = train_test_split(X, y, test_size = 0.3, random_state = 42)"
   ]
  },
  {
   "cell_type": "code",
   "execution_count": 60,
   "metadata": {},
   "outputs": [],
   "source": [
    "Reg = RandomForestRegressor(n_estimators = 1000,\n",
    "     min_samples_split= 10,\n",
    "     min_samples_leaf= 4,\n",
    "     max_features= 'sqrt',\n",
    "     max_depth= 30,\n",
    "     bootstrap= True)"
   ]
  },
  {
   "cell_type": "code",
   "execution_count": 61,
   "metadata": {
    "scrolled": true
   },
   "outputs": [
    {
     "data": {
      "text/plain": [
       "RandomForestRegressor(max_depth=30, max_features='sqrt', min_samples_leaf=4,\n",
       "                      min_samples_split=10, n_estimators=1000)"
      ]
     },
     "execution_count": 61,
     "metadata": {},
     "output_type": "execute_result"
    }
   ],
   "source": [
    "Reg.fit(X_train, y_train)"
   ]
  },
  {
   "cell_type": "code",
   "execution_count": 62,
   "metadata": {},
   "outputs": [],
   "source": [
    "prediction = Reg.predict(X_test)"
   ]
  },
  {
   "cell_type": "code",
   "execution_count": 63,
   "metadata": {},
   "outputs": [
    {
     "name": "stdout",
     "output_type": "stream",
     "text": [
      "R2 : 0.034747108417349515\n",
      "MSE : 1802.9525598559896\n",
      "MAE : 30.46465854380048\n"
     ]
    }
   ],
   "source": [
    "print('R2 : ' + str(rfr.score(X_test, y_test)))\n",
    "print('MSE : ' + str(mean_squared_error(y_test, prediction)))\n",
    "print('MAE : ' + str(mean_absolute_error(y_test, prediction)))"
   ]
  },
  {
   "cell_type": "code",
   "execution_count": 64,
   "metadata": {},
   "outputs": [
    {
     "data": {
      "text/plain": [
       "array([0.36932475, 0.63067525])"
      ]
     },
     "execution_count": 64,
     "metadata": {},
     "output_type": "execute_result"
    }
   ],
   "source": [
    "Reg.feature_importances_"
   ]
  },
  {
   "cell_type": "code",
   "execution_count": 67,
   "metadata": {},
   "outputs": [],
   "source": [
    "#Prueba con un modelo de regression linear"
   ]
  },
  {
   "cell_type": "code",
   "execution_count": 68,
   "metadata": {},
   "outputs": [
    {
     "data": {
      "text/plain": [
       "LinearRegression()"
      ]
     },
     "execution_count": 68,
     "metadata": {},
     "output_type": "execute_result"
    }
   ],
   "source": [
    "model = LinearRegression()\n",
    "model.fit(X_train, y_train)"
   ]
  },
  {
   "cell_type": "code",
   "execution_count": 71,
   "metadata": {},
   "outputs": [],
   "source": [
    "prediction = model.predict(X_test)"
   ]
  },
  {
   "cell_type": "code",
   "execution_count": 73,
   "metadata": {},
   "outputs": [
    {
     "name": "stdout",
     "output_type": "stream",
     "text": [
      "R2 : 0.10924665271625744\n",
      "MSE : 1759.0144164553667\n",
      "MAE : 30.178629450379628\n"
     ]
    }
   ],
   "source": [
    "print('R2 : ' + str(model.score(X_test, y_test)))\n",
    "print('MSE : ' + str(mean_squared_error(y_test, prediction)))\n",
    "print('MAE : ' + str(mean_absolute_error(y_test, prediction)))"
   ]
  },
  {
   "cell_type": "markdown",
   "metadata": {},
   "source": [
    "Metricas de avaulacion parecidas, no hemos conseguido un modelo de regession que sea capaz de predecir los valores de forma acertada. Aun y haber añadido la variable temperatura las métricas de los modelos son muy parecidas, la temperatura a ayudado a reducir los errores pero no a mejorar la capacidad de prediccion. \n",
    "\n",
    "Disenyo de modelo de classificación se classifican las medias mensuales segun altas o bajas si estan por debajo o por encima de la media del df y se hace un modelo que busque predecir en funcion del mes y de la temperatura su clasificacion. "
   ]
  },
  {
   "cell_type": "code",
   "execution_count": 318,
   "metadata": {},
   "outputs": [],
   "source": [
    "#Creamos df con precipitacions classificadas en las dos classes (0 debajo de media 1 encima de media)\n",
    "df_clas = df.copy()"
   ]
  },
  {
   "cell_type": "code",
   "execution_count": 319,
   "metadata": {},
   "outputs": [],
   "source": [
    "df_clas.reset_index(inplace = True, drop = True)"
   ]
  },
  {
   "cell_type": "code",
   "execution_count": 320,
   "metadata": {
    "collapsed": true
   },
   "outputs": [
    {
     "name": "stderr",
     "output_type": "stream",
     "text": [
      "<ipython-input-320-422165509af3>:3: SettingWithCopyWarning: \n",
      "A value is trying to be set on a copy of a slice from a DataFrame\n",
      "\n",
      "See the caveats in the documentation: https://pandas.pydata.org/pandas-docs/stable/user_guide/indexing.html#returning-a-view-versus-a-copy\n",
      "  df_clas['Precipitacions'][i] = 0\n",
      "<ipython-input-320-422165509af3>:5: SettingWithCopyWarning: \n",
      "A value is trying to be set on a copy of a slice from a DataFrame\n",
      "\n",
      "See the caveats in the documentation: https://pandas.pydata.org/pandas-docs/stable/user_guide/indexing.html#returning-a-view-versus-a-copy\n",
      "  df_clas['Precipitacions'][i] = 1\n"
     ]
    }
   ],
   "source": [
    "for i in range(len(df_clas)):\n",
    "    if df_clas['Precipitacions'][i] < 44.9: \n",
    "        df_clas['Precipitacions'][i] = 0\n",
    "    else: \n",
    "        df_clas['Precipitacions'][i] = 1"
   ]
  },
  {
   "cell_type": "code",
   "execution_count": 321,
   "metadata": {},
   "outputs": [],
   "source": [
    "#Fem dummies per la variable mesos\n",
    "dum = pd.get_dummies(df['Mes'], prefix = 'mes_')"
   ]
  },
  {
   "cell_type": "code",
   "execution_count": 322,
   "metadata": {},
   "outputs": [],
   "source": [
    "df_dum = df_clas.join(dum)"
   ]
  },
  {
   "cell_type": "code",
   "execution_count": 323,
   "metadata": {},
   "outputs": [],
   "source": [
    "df_dum.dropna(inplace = True)"
   ]
  },
  {
   "cell_type": "code",
   "execution_count": 324,
   "metadata": {},
   "outputs": [],
   "source": [
    "df_dum.drop(['Mes'],1,inplace = True)"
   ]
  },
  {
   "cell_type": "code",
   "execution_count": 325,
   "metadata": {},
   "outputs": [],
   "source": [
    "X = df_dum.drop('Precipitacions',1)\n",
    "y = df_dum.Precipitacions"
   ]
  },
  {
   "cell_type": "code",
   "execution_count": 344,
   "metadata": {},
   "outputs": [],
   "source": [
    "#Train test split\n",
    "X_train, X_test, y_train, y_test = train_test_split(X, y, test_size = 0.3, random_state = 42)"
   ]
  },
  {
   "cell_type": "code",
   "execution_count": 345,
   "metadata": {},
   "outputs": [],
   "source": [
    "clf = RandomForestClassifier()"
   ]
  },
  {
   "cell_type": "code",
   "execution_count": 346,
   "metadata": {},
   "outputs": [
    {
     "data": {
      "text/plain": [
       "RandomForestClassifier()"
      ]
     },
     "execution_count": 346,
     "metadata": {},
     "output_type": "execute_result"
    }
   ],
   "source": [
    "clf.fit(X_train, y_train)"
   ]
  },
  {
   "cell_type": "code",
   "execution_count": 347,
   "metadata": {},
   "outputs": [],
   "source": [
    "prediction = clf.predict(X_test)"
   ]
  },
  {
   "cell_type": "code",
   "execution_count": 348,
   "metadata": {},
   "outputs": [
    {
     "name": "stdout",
     "output_type": "stream",
     "text": [
      "Accuracy:  0.5690072639225182\n",
      "f1_score:  0.5618760528231258\n",
      "recal_socre:  0.5690072639225182\n"
     ]
    }
   ],
   "source": [
    "print('Accuracy: ', accuracy_score(y_test, prediction))\n",
    "print('f1_score: ', f1_score(y_test, prediction, average = 'weighted'))\n",
    "print('recal_socre: ' ,recall_score(y_test, prediction, average = 'weighted'))"
   ]
  },
  {
   "cell_type": "code",
   "execution_count": 349,
   "metadata": {},
   "outputs": [
    {
     "data": {
      "image/png": "[encoded data removed]",
      "text/plain": [
       "<Figure size 504x504 with 1 Axes>"
      ]
     },
     "metadata": {
      "needs_background": "light"
     },
     "output_type": "display_data"
    }
   ],
   "source": [
    "cm_logis = confusion_matrix(y_test, prediction)\n",
    "#Put it into a df for sns plot function\n",
    "cm_logis_df = pd.DataFrame(cm_logis)\n",
    "\n",
    "#Use a sns heatmap to plot confusion matrices \n",
    "#The df is transposed to make actual values on x-axis and predicted on y-axis\n",
    "fig, ax = plt.subplots(figsize = (7,7))\n",
    "sns.heatmap(cm_logis_df.T, annot = True, annot_kws={'size':15}, cmap = 'Oranges', vmin = 0, vmax = 800, fmt = '.0f', \n",
    "           linewidths = 1, linecolor = 'white', cbar = False)\n",
    "plt.ylabel('Predicted', fontsize = 15)\n",
    "plt.xlabel('Actual', fontsize = 15)\n",
    "ax.set_xticklabels(['Low', 'High'], fontsize = 13)\n",
    "ax.set_yticklabels(['Low', 'High'], fontsize = 13)\n",
    "plt.title('Confusion Matrix for \"Dummy\" Classifier - counts', fontsize = 15 )\n",
    "plt.show()"
   ]
  },
  {
   "cell_type": "code",
   "execution_count": 340,
   "metadata": {},
   "outputs": [
    {
     "data": {
      "text/plain": [
       "array([0.94357869, 0.00393166, 0.00397738, 0.0037242 , 0.00912486,\n",
       "       0.00402047, 0.00391455, 0.00477401, 0.0040584 , 0.00416128,\n",
       "       0.00484312, 0.0036246 , 0.00626678])"
      ]
     },
     "execution_count": 340,
     "metadata": {},
     "output_type": "execute_result"
    }
   ],
   "source": [
    "clf.feature_importances_"
   ]
  },
  {
   "cell_type": "markdown",
   "metadata": {},
   "source": [
    "Modelo poco concluyente, no se consigue predecir de forma acurada si el mes pertenece a la categoria de lluvias altas o bajas. Se deberia revisar la classificacion, para ver de que formas se puede hacer para aumentar la capacidad de prediccion. \n",
    "\n",
    "Con los modelos supervisado no se han encontrado patrones que expliquen las tendencias de lluvia ni a lo largo de los años ni en los distintos meses. Los modelos han obtenido una capacidad de prediccion poco superior a modelos aleatorios de prediccion. "
   ]
  }
 ],
 "metadata": {
  "kernelspec": {
   "display_name": "Python 3",
   "language": "python",
   "name": "python3"
  },
  "language_info": {
   "codemirror_mode": {
    "name": "ipython",
    "version": 3
   },
   "file_extension": ".py",
   "mimetype": "text/x-python",
   "name": "python",
   "nbconvert_exporter": "python",
   "pygments_lexer": "ipython3",
   "version": "3.8.5"
  }
 },
 "nbformat": 4,
 "nbformat_minor": 4
}
